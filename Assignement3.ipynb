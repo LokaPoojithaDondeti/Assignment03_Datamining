{
 "cells": [
  {
   "cell_type": "code",
   "execution_count": 28,
   "id": "85ff1770-3da1-4dda-93b9-53db3917fd40",
   "metadata": {},
   "outputs": [],
   "source": [
    "import pandas as pd\n",
    "import numpy as np\n",
    "import warnings\n",
    "\n",
    "# Ignore all warnings\n",
    "warnings.filterwarnings(\"ignore\")"
   ]
  },
  {
   "cell_type": "code",
   "execution_count": 29,
   "id": "31e86c98-342a-419f-8c76-b09f28c9c893",
   "metadata": {},
   "outputs": [
    {
     "data": {
      "text/html": [
       "<div>\n",
       "<style scoped>\n",
       "    .dataframe tbody tr th:only-of-type {\n",
       "        vertical-align: middle;\n",
       "    }\n",
       "\n",
       "    .dataframe tbody tr th {\n",
       "        vertical-align: top;\n",
       "    }\n",
       "\n",
       "    .dataframe thead th {\n",
       "        text-align: right;\n",
       "    }\n",
       "</style>\n",
       "<table border=\"1\" class=\"dataframe\">\n",
       "  <thead>\n",
       "    <tr style=\"text-align: right;\">\n",
       "      <th></th>\n",
       "      <th>0</th>\n",
       "      <th>1</th>\n",
       "      <th>2</th>\n",
       "      <th>3</th>\n",
       "      <th>4</th>\n",
       "      <th>5</th>\n",
       "      <th>6</th>\n",
       "      <th>7</th>\n",
       "      <th>8</th>\n",
       "      <th>9</th>\n",
       "      <th>10</th>\n",
       "    </tr>\n",
       "  </thead>\n",
       "  <tbody>\n",
       "    <tr>\n",
       "      <th>0</th>\n",
       "      <td>sausage</td>\n",
       "      <td>canned beer</td>\n",
       "      <td>NaN</td>\n",
       "      <td>NaN</td>\n",
       "      <td>NaN</td>\n",
       "      <td>NaN</td>\n",
       "      <td>NaN</td>\n",
       "      <td>NaN</td>\n",
       "      <td>NaN</td>\n",
       "      <td>NaN</td>\n",
       "      <td>NaN</td>\n",
       "    </tr>\n",
       "    <tr>\n",
       "      <th>1</th>\n",
       "      <td>shopping bags</td>\n",
       "      <td>beef</td>\n",
       "      <td>citrus fruit</td>\n",
       "      <td>cat food</td>\n",
       "      <td>NaN</td>\n",
       "      <td>NaN</td>\n",
       "      <td>NaN</td>\n",
       "      <td>NaN</td>\n",
       "      <td>NaN</td>\n",
       "      <td>NaN</td>\n",
       "      <td>NaN</td>\n",
       "    </tr>\n",
       "    <tr>\n",
       "      <th>2</th>\n",
       "      <td>onions</td>\n",
       "      <td>root vegetables</td>\n",
       "      <td>NaN</td>\n",
       "      <td>NaN</td>\n",
       "      <td>NaN</td>\n",
       "      <td>NaN</td>\n",
       "      <td>NaN</td>\n",
       "      <td>NaN</td>\n",
       "      <td>NaN</td>\n",
       "      <td>NaN</td>\n",
       "      <td>NaN</td>\n",
       "    </tr>\n",
       "    <tr>\n",
       "      <th>3</th>\n",
       "      <td>bottled beer</td>\n",
       "      <td>domestic eggs</td>\n",
       "      <td>brown bread</td>\n",
       "      <td>chewing gum</td>\n",
       "      <td>NaN</td>\n",
       "      <td>NaN</td>\n",
       "      <td>NaN</td>\n",
       "      <td>NaN</td>\n",
       "      <td>NaN</td>\n",
       "      <td>NaN</td>\n",
       "      <td>NaN</td>\n",
       "    </tr>\n",
       "    <tr>\n",
       "      <th>4</th>\n",
       "      <td>rolls/buns</td>\n",
       "      <td>other vegetables</td>\n",
       "      <td>chewing gum</td>\n",
       "      <td>NaN</td>\n",
       "      <td>NaN</td>\n",
       "      <td>NaN</td>\n",
       "      <td>NaN</td>\n",
       "      <td>NaN</td>\n",
       "      <td>NaN</td>\n",
       "      <td>NaN</td>\n",
       "      <td>NaN</td>\n",
       "    </tr>\n",
       "  </tbody>\n",
       "</table>\n",
       "</div>"
      ],
      "text/plain": [
       "               0                 1             2            3    4    5    6  \\\n",
       "0        sausage       canned beer           NaN          NaN  NaN  NaN  NaN   \n",
       "1  shopping bags              beef  citrus fruit     cat food  NaN  NaN  NaN   \n",
       "2         onions   root vegetables           NaN          NaN  NaN  NaN  NaN   \n",
       "3   bottled beer     domestic eggs   brown bread  chewing gum  NaN  NaN  NaN   \n",
       "4     rolls/buns  other vegetables   chewing gum          NaN  NaN  NaN  NaN   \n",
       "\n",
       "     7    8   9  10  \n",
       "0  NaN  NaN NaN NaN  \n",
       "1  NaN  NaN NaN NaN  \n",
       "2  NaN  NaN NaN NaN  \n",
       "3  NaN  NaN NaN NaN  \n",
       "4  NaN  NaN NaN NaN  "
      ]
     },
     "execution_count": 29,
     "metadata": {},
     "output_type": "execute_result"
    }
   ],
   "source": [
    "data =  pd.read_csv(\"Grocery_Items_8.csv\")\n",
    "data.head()"
   ]
  },
  {
   "cell_type": "code",
   "execution_count": 30,
   "id": "7fd085b5-705b-4fa7-9a16-6a3039301ce0",
   "metadata": {},
   "outputs": [
    {
     "data": {
      "text/html": [
       "<div>\n",
       "<style scoped>\n",
       "    .dataframe tbody tr th:only-of-type {\n",
       "        vertical-align: middle;\n",
       "    }\n",
       "\n",
       "    .dataframe tbody tr th {\n",
       "        vertical-align: top;\n",
       "    }\n",
       "\n",
       "    .dataframe thead th {\n",
       "        text-align: right;\n",
       "    }\n",
       "</style>\n",
       "<table border=\"1\" class=\"dataframe\">\n",
       "  <thead>\n",
       "    <tr style=\"text-align: right;\">\n",
       "      <th></th>\n",
       "      <th>0</th>\n",
       "      <th>1</th>\n",
       "      <th>2</th>\n",
       "      <th>3</th>\n",
       "      <th>4</th>\n",
       "      <th>5</th>\n",
       "      <th>6</th>\n",
       "      <th>7</th>\n",
       "      <th>8</th>\n",
       "      <th>9</th>\n",
       "      <th>10</th>\n",
       "    </tr>\n",
       "  </thead>\n",
       "  <tbody>\n",
       "    <tr>\n",
       "      <th>7995</th>\n",
       "      <td>whole milk</td>\n",
       "      <td>liquor (appetizer)</td>\n",
       "      <td>NaN</td>\n",
       "      <td>NaN</td>\n",
       "      <td>NaN</td>\n",
       "      <td>NaN</td>\n",
       "      <td>NaN</td>\n",
       "      <td>NaN</td>\n",
       "      <td>NaN</td>\n",
       "      <td>NaN</td>\n",
       "      <td>NaN</td>\n",
       "    </tr>\n",
       "    <tr>\n",
       "      <th>7996</th>\n",
       "      <td>pastry</td>\n",
       "      <td>tropical fruit</td>\n",
       "      <td>citrus fruit</td>\n",
       "      <td>coffee</td>\n",
       "      <td>NaN</td>\n",
       "      <td>NaN</td>\n",
       "      <td>NaN</td>\n",
       "      <td>NaN</td>\n",
       "      <td>NaN</td>\n",
       "      <td>NaN</td>\n",
       "      <td>NaN</td>\n",
       "    </tr>\n",
       "    <tr>\n",
       "      <th>7997</th>\n",
       "      <td>curd</td>\n",
       "      <td>root vegetables</td>\n",
       "      <td>dish cleaner</td>\n",
       "      <td>NaN</td>\n",
       "      <td>NaN</td>\n",
       "      <td>NaN</td>\n",
       "      <td>NaN</td>\n",
       "      <td>NaN</td>\n",
       "      <td>NaN</td>\n",
       "      <td>NaN</td>\n",
       "      <td>NaN</td>\n",
       "    </tr>\n",
       "    <tr>\n",
       "      <th>7998</th>\n",
       "      <td>root vegetables</td>\n",
       "      <td>bottled beer</td>\n",
       "      <td>NaN</td>\n",
       "      <td>NaN</td>\n",
       "      <td>NaN</td>\n",
       "      <td>NaN</td>\n",
       "      <td>NaN</td>\n",
       "      <td>NaN</td>\n",
       "      <td>NaN</td>\n",
       "      <td>NaN</td>\n",
       "      <td>NaN</td>\n",
       "    </tr>\n",
       "    <tr>\n",
       "      <th>7999</th>\n",
       "      <td>pork</td>\n",
       "      <td>bottled water</td>\n",
       "      <td>NaN</td>\n",
       "      <td>NaN</td>\n",
       "      <td>NaN</td>\n",
       "      <td>NaN</td>\n",
       "      <td>NaN</td>\n",
       "      <td>NaN</td>\n",
       "      <td>NaN</td>\n",
       "      <td>NaN</td>\n",
       "      <td>NaN</td>\n",
       "    </tr>\n",
       "  </tbody>\n",
       "</table>\n",
       "</div>"
      ],
      "text/plain": [
       "                    0                   1             2       3    4    5  \\\n",
       "7995       whole milk  liquor (appetizer)           NaN     NaN  NaN  NaN   \n",
       "7996           pastry      tropical fruit  citrus fruit  coffee  NaN  NaN   \n",
       "7997             curd     root vegetables  dish cleaner     NaN  NaN  NaN   \n",
       "7998  root vegetables        bottled beer           NaN     NaN  NaN  NaN   \n",
       "7999             pork       bottled water           NaN     NaN  NaN  NaN   \n",
       "\n",
       "        6    7    8   9  10  \n",
       "7995  NaN  NaN  NaN NaN NaN  \n",
       "7996  NaN  NaN  NaN NaN NaN  \n",
       "7997  NaN  NaN  NaN NaN NaN  \n",
       "7998  NaN  NaN  NaN NaN NaN  \n",
       "7999  NaN  NaN  NaN NaN NaN  "
      ]
     },
     "execution_count": 30,
     "metadata": {},
     "output_type": "execute_result"
    }
   ],
   "source": [
    "data.tail()"
   ]
  },
  {
   "cell_type": "markdown",
   "id": "6c4468e5-d930-41ca-9bae-f3d5bef1e5fc",
   "metadata": {},
   "source": [
    "##### • How many unique items are there in your dataset?\n",
    "\n",
    "##### • How many records are there in your dataset?\n",
    "##### • What is the most popular item in your dataset? How many transactions contain this item? (1\n",
    "##### point)\n"
   ]
  },
  {
   "cell_type": "code",
   "execution_count": 31,
   "id": "4f9a2422-2506-4859-81bc-805e6bb041e2",
   "metadata": {},
   "outputs": [
    {
     "name": "stdout",
     "output_type": "stream",
     "text": [
      "Number of unique items: 166\n",
      "Number of records: 8000\n",
      "Most popular item: whole milk\n",
      "Number of transactions containing this item: 1337\n"
     ]
    }
   ],
   "source": [
    "all_items = data.values.flatten()\n",
    "\n",
    "# Remove NaN values\n",
    "all_items = all_items[~pd.isna(all_items)]\n",
    "\n",
    "# 1. How many unique items are there in your dataset?\n",
    "unique_items = len(set(all_items))\n",
    "print(f\"Number of unique items: {unique_items}\")\n",
    "\n",
    "# 2. How many records are there in your dataset?\n",
    "num_records = len(data)\n",
    "print(f\"Number of records: {num_records}\")\n",
    "\n",
    "# 3. What is the most popular item in your dataset?\n",
    "# Count the occurrences of each item\n",
    "item_counts = pd.Series(all_items).value_counts()\n",
    "\n",
    "\n",
    "\n",
    "# Most popular item and its count\n",
    "most_popular_item = item_counts.idxmax()\n",
    "most_popular_count = item_counts.max()\n",
    "print(f\"Most popular item: {most_popular_item}\")\n",
    "print(f\"Number of transactions containing this item: {most_popular_count}\")  "
   ]
  },
  {
   "cell_type": "markdown",
   "id": "143031c5-60f7-442b-aee3-409672ab7a63",
   "metadata": {},
   "source": [
    "##### Using minimum support = 0.01 and minimum confidence threshold = 0.08, what are the association\n",
    "##### rules you can extract from your dataset? (0.5 point)\n",
    "##### (see http://rasbt.github.io/mlxtend/user_guide/frequent_patterns/association_\n",
    "##### rules/)\n"
   ]
  },
  {
   "cell_type": "code",
   "execution_count": 32,
   "id": "16d65e15-b876-4378-aaa9-3b5d1dbec84d",
   "metadata": {},
   "outputs": [
    {
     "name": "stdout",
     "output_type": "stream",
     "text": [
      "          antecedents         consequents  antecedent support  \\\n",
      "0        (rolls/buns)  (other vegetables)            0.108625   \n",
      "1  (other vegetables)        (rolls/buns)            0.122250   \n",
      "2              (soda)  (other vegetables)            0.096750   \n",
      "3  (other vegetables)              (soda)            0.122250   \n",
      "4        (whole milk)  (other vegetables)            0.158250   \n",
      "5  (other vegetables)        (whole milk)            0.122250   \n",
      "6        (whole milk)        (rolls/buns)            0.158250   \n",
      "7        (rolls/buns)        (whole milk)            0.108625   \n",
      "8              (soda)        (whole milk)            0.096750   \n",
      "9            (yogurt)        (whole milk)            0.086125   \n",
      "\n",
      "   consequent support   support  confidence      lift  representativity  \\\n",
      "0            0.122250  0.010625    0.097814  0.800111               1.0   \n",
      "1            0.108625  0.010625    0.086912  0.800111               1.0   \n",
      "2            0.122250  0.010875    0.112403  0.919453               1.0   \n",
      "3            0.096750  0.010875    0.088957  0.919453               1.0   \n",
      "4            0.122250  0.014625    0.092417  0.755968               1.0   \n",
      "5            0.158250  0.014625    0.119632  0.755968               1.0   \n",
      "6            0.108625  0.014625    0.092417  0.850790               1.0   \n",
      "7            0.158250  0.014625    0.134638  0.850790               1.0   \n",
      "8            0.158250  0.012125    0.125323  0.791930               1.0   \n",
      "9            0.158250  0.011625    0.134978  0.852943               1.0   \n",
      "\n",
      "   leverage  conviction  zhangs_metric   jaccard  certainty  kulczynski  \n",
      "0 -0.002654    0.972914      -0.218915  0.048241  -0.027840    0.092363  \n",
      "1 -0.002654    0.976220      -0.221561  0.048241  -0.024359    0.092363  \n",
      "2 -0.000953    0.988906      -0.088412  0.052252  -0.011218    0.100680  \n",
      "3 -0.000953    0.991446      -0.090748  0.052252  -0.008628    0.100680  \n",
      "4 -0.004721    0.967129      -0.277193  0.055007  -0.033988    0.106024  \n",
      "5 -0.004721    0.956134      -0.268881  0.055007  -0.045878    0.106024  \n",
      "6 -0.002565    0.982142      -0.172425  0.057978  -0.018183    0.113527  \n",
      "7 -0.002565    0.972714      -0.164404  0.057978  -0.028052    0.113527  \n",
      "8 -0.003186    0.962355      -0.225334  0.049923  -0.039117    0.100971  \n",
      "9 -0.002004    0.973097      -0.158716  0.049946  -0.027647    0.104219  \n"
     ]
    }
   ],
   "source": [
    "\n",
    "import pandas as pd\n",
    "from mlxtend.preprocessing import TransactionEncoder\n",
    "from mlxtend.frequent_patterns import apriori, association_rules,fpgrowth\n",
    "\n",
    "# Convert the dataset into a list of transactions, ignoring NaN values\n",
    "transactions = data.apply(lambda x: x.dropna().tolist(), axis=1).tolist()\n",
    "# Print the transactions to verify\n",
    "# print(transactions)\n",
    "\n",
    "# Use the TransactionEncoder to transform the data\n",
    "te = TransactionEncoder()\n",
    "te_ary = te.fit(transactions).transform(transactions)\n",
    "\n",
    "df = pd.DataFrame(te_ary, columns=te.columns_)\n",
    "# Run the Apriori algorithm to find frequent itemsets with a minimum support of 0.01\n",
    "frequent_itemsets = apriori(df , min_support=0.01, use_colnames=True)\n",
    "\n",
    "records =len(frequent_itemsets)\n",
    "\n",
    "rules = association_rules(df=frequent_itemsets,\n",
    "    num_itemsets=records,metric=\"confidence\", min_threshold=0.08)\n",
    "# Generate association rules with a minimum confidence threshold of 0.08\n",
    "\n",
    "# # Display the rules\n",
    "print(pd.DataFrame(rules))"
   ]
  },
  {
   "cell_type": "markdown",
   "id": "80953137-3eb7-4fb1-a722-ced603b0e88a",
   "metadata": {},
   "source": [
    "##### (e) Use minimum support values (msv): 0.001, 0.005, 0.01 and minimum confidence threshold (mct):\n",
    "##### 0.05, 0.075, 0.1. For each pair (msv, mct), find the number of association rules extracted from\n",
    "##### the dataset. Construct a heatmap using Seaborn data visualization library (https://seaborn.\n",
    "##### pydata.org/generated/seaborn.heatmap.html) to show the count results such that the xaxis is msv and the y-axis is mct. (1.5 points)"
   ]
  },
  {
   "cell_type": "code",
   "execution_count": 33,
   "id": "a63cd86c-1e23-4b46-a467-e6fe15ed5bd7",
   "metadata": {},
   "outputs": [
    {
     "data": {
      "image/png": "[encoded data removed]",
      "text/plain": [
       "<Figure size 800x600 with 2 Axes>"
      ]
     },
     "metadata": {},
     "output_type": "display_data"
    }
   ],
   "source": [
    "import seaborn as sns\n",
    "import matplotlib.pyplot as plt\n",
    "df = pd.DataFrame(te_ary, columns=te.columns_)\n",
    "\n",
    "# Define minimum support values and minimum confidence thresholds\n",
    "msv_values = [0.001, 0.005, 0.01]\n",
    "mct_values = [0.05, 0.075, 0.1]\n",
    "\n",
    "# Initialize an empty list to store the results\n",
    "rule_counts = []\n",
    "\n",
    "# Iterate over each pair of MSV and MCT\n",
    "for msv in msv_values:\n",
    "    row = []\n",
    "    for mct in mct_values:\n",
    "        # Find frequent itemsets using the current MSV\n",
    "        frequent_itemsets = apriori(df, min_support=msv, use_colnames=True)\n",
    "        records = len(frequent_itemsets)\n",
    "        # Generate association rules with the current MCT\n",
    "        rules = association_rules(df=frequent_itemsets,\n",
    "        num_itemsets=records,metric=\"confidence\", min_threshold=0.08)\n",
    "        \n",
    "        # Store the number of rules\n",
    "        row.append(len(rules))\n",
    "    \n",
    "    # Append the row of counts for the current MSV\n",
    "    rule_counts.append(row)\n",
    "\n",
    "# Convert the results to a DataFrame\n",
    "heatmap_data = pd.DataFrame(rule_counts, columns=mct_values, index=msv_values)\n",
    "\n",
    "# Plot the heatmap using Seaborn\n",
    "plt.figure(figsize=(8, 6))\n",
    "sns.heatmap(heatmap_data, annot=True, cmap=\"YlGnBu\", fmt=\"d\", cbar_kws={'label': 'Number of Rules'})\n",
    "plt.xlabel('Minimum Confidence Threshold')\n",
    "plt.ylabel('Minimum Support Value')\n",
    "plt.title('Number of Association Rules for Different MSV and MCT')\n",
    "plt.show()"
   ]
  },
  {
   "cell_type": "markdown",
   "id": "e466c667-ea27-46ef-bfce-1ef97f8c7394",
   "metadata": {},
   "source": [
    "##### Here I am Using Pytorch Implementation , As it is already installed in my laptop with GPU configuration\n",
    "###### Thank you"
   ]
  },
  {
   "cell_type": "markdown",
   "id": "002c2ab3-6ffa-45d7-b03f-8a4ead1c825e",
   "metadata": {},
   "source": [
    "##### 2. [Image Classification using CNN] Construct a 4-class classification model using a convolutional neural\n",
    "###### network with the following simple architecture (2 point)\n",
    "###### i 1 Convolutional Layer with 8 3 × 3 filters.\n",
    "###### ii 1 max pooling with 2 × 2 pool size\n",
    "###### i 1 Convolutional Layer with 4 3 × 3 filters.\n",
    "###### ii 1 max pooling with 2 × 2 pool size\n",
    "###### iii Flatten the Tensor\n",
    "###### iv 1 hidden layer with 8 nodes for fully connected neural network\n",
    "###### v Output layer has 4 nodes (since 4 classes) using ‘softmax’ activation function.\n",
    "###### (Use ’Relu’ for all layers except the output layer.) for 20 epochs using ‘adam’ optimizer and ‘categorical\n",
    "###### cross entropy’ loss function. If your machine is too slow, you can reduce to 5 epochs. You can\n",
    "###### perform more epochs (> 20) if you want to. For validation split, you will use 20%. For batch size,\n",
    "###### you can pick a size that will not slow down the training process on your machine. (see https:\n",
    "###### //keras.io/examples/vision/mnist_convnet/)"
   ]
  },
  {
   "cell_type": "code",
   "execution_count": 35,
   "id": "315452f0-e470-4283-8373-51930442c4bd",
   "metadata": {},
   "outputs": [
    {
     "name": "stdout",
     "output_type": "stream",
     "text": [
      "Using device: cuda\n",
      "Epoch 1/20, Training Accuracy: 78.58%, Validation Accuracy: 95.09%\n",
      "Epoch 2/20, Training Accuracy: 96.42%, Validation Accuracy: 96.49%\n",
      "Epoch 3/20, Training Accuracy: 96.98%, Validation Accuracy: 96.81%\n",
      "Epoch 4/20, Training Accuracy: 97.18%, Validation Accuracy: 97.03%\n",
      "Epoch 5/20, Training Accuracy: 97.43%, Validation Accuracy: 97.39%\n",
      "Epoch 6/20, Training Accuracy: 97.67%, Validation Accuracy: 97.48%\n",
      "Epoch 7/20, Training Accuracy: 97.75%, Validation Accuracy: 97.56%\n",
      "Epoch 8/20, Training Accuracy: 97.90%, Validation Accuracy: 96.51%\n",
      "Epoch 9/20, Training Accuracy: 98.08%, Validation Accuracy: 97.46%\n",
      "Epoch 10/20, Training Accuracy: 98.14%, Validation Accuracy: 97.09%\n",
      "Epoch 11/20, Training Accuracy: 98.24%, Validation Accuracy: 98.04%\n",
      "Epoch 12/20, Training Accuracy: 98.49%, Validation Accuracy: 97.96%\n",
      "Epoch 13/20, Training Accuracy: 98.54%, Validation Accuracy: 98.12%\n",
      "Epoch 14/20, Training Accuracy: 98.57%, Validation Accuracy: 98.14%\n",
      "Epoch 15/20, Training Accuracy: 98.69%, Validation Accuracy: 97.84%\n",
      "Epoch 16/20, Training Accuracy: 98.67%, Validation Accuracy: 97.96%\n",
      "Epoch 17/20, Training Accuracy: 98.76%, Validation Accuracy: 98.30%\n",
      "Epoch 18/20, Training Accuracy: 98.89%, Validation Accuracy: 98.34%\n",
      "Epoch 19/20, Training Accuracy: 98.87%, Validation Accuracy: 98.06%\n",
      "Epoch 20/20, Training Accuracy: 98.97%, Validation Accuracy: 98.42%\n"
     ]
    },
    {
     "data": {
      "image/png": "[encoded data removed]",
      "text/plain": [
       "<Figure size 1000x600 with 1 Axes>"
      ]
     },
     "metadata": {},
     "output_type": "display_data"
    }
   ],
   "source": [
    "import torch\n",
    "import torch.nn as nn\n",
    "import torch.optim as optim\n",
    "from torchvision import datasets, transforms\n",
    "from torch.utils.data import DataLoader, random_split\n",
    "import matplotlib.pyplot as plt\n",
    "\n",
    "# Check if CUDA is available\n",
    "device = torch.device(\"cuda\" if torch.cuda.is_available() else \"cpu\")\n",
    "print(f\"Using device: {device}\")\n",
    "\n",
    "# Define the CNN architecture\n",
    "class SimpleCNN(nn.Module):\n",
    "    def __init__(self):\n",
    "        super(SimpleCNN, self).__init__()\n",
    "        self.conv1 = nn.Conv2d(1, 8, kernel_size=3)  # 1 input channel, 8 filters, 3x3 kernel\n",
    "        self.pool1 = nn.MaxPool2d(kernel_size=2, stride=2)  # Max pooling\n",
    "        self.conv2 = nn.Conv2d(8, 4, kernel_size=3)  # 8 input channels, 4 filters, 3x3 kernel\n",
    "        self.pool2 = nn.MaxPool2d(kernel_size=2, stride=2)  # Max pooling\n",
    "        self.flatten = nn.Flatten()\n",
    "        self.fc1 = nn.Linear(4 * 5 * 5, 8)  # Fully connected layer, 4x5x5 from flattened tensor\n",
    "        self.fc2 = nn.Linear(8, 4)  # Fully connected output layer, 4 classes\n",
    "\n",
    "    def forward(self, x):\n",
    "        x = torch.relu(self.conv1(x))\n",
    "        x = self.pool1(x)\n",
    "        x = torch.relu(self.conv2(x))\n",
    "        x = self.pool2(x)\n",
    "        x = self.flatten(x)\n",
    "        x = torch.relu(self.fc1(x))\n",
    "        x = torch.softmax(self.fc2(x), dim=1)\n",
    "        return x\n",
    "\n",
    "\n",
    "# Load MNIST dataset and preprocess for 4 classes (digits 0, 1, 2, 3)\n",
    "transform = transforms.Compose([\n",
    "    transforms.ToTensor(),\n",
    "    transforms.Normalize((0.5,), (0.5,))  # Normalize to range [-1, 1]\n",
    "])\n",
    "\n",
    "dataset = datasets.MNIST(root='./data', train=True, transform=transform, download=True)\n",
    "\n",
    "# Filter dataset to include only classes 0, 1, 2, and 3\n",
    "subset_indices = [i for i, (img, label) in enumerate(dataset) if label in [0, 1, 2, 3]]\n",
    "dataset = torch.utils.data.Subset(dataset, subset_indices)\n",
    "\n",
    "# Split into training and validation sets\n",
    "train_size = int(0.8 * len(dataset))\n",
    "val_size = len(dataset) - train_size\n",
    "train_dataset, val_dataset = random_split(dataset, [train_size, val_size])\n",
    "\n",
    "train_loader = DataLoader(train_dataset, batch_size=64, shuffle=True)\n",
    "val_loader = DataLoader(val_dataset, batch_size=64, shuffle=False)\n",
    "\n",
    "# Initialize the model, loss function, and optimizer\n",
    "model = SimpleCNN().to(device)  # Move the model to the GPU if available\n",
    "criterion = nn.CrossEntropyLoss()  # Use CrossEntropyLoss for multi-class classification\n",
    "optimizer = optim.Adam(model.parameters(), lr=0.001)\n",
    "\n",
    "# Train the model\n",
    "epochs = 20\n",
    "train_acc = []\n",
    "val_acc = []\n",
    "\n",
    "for epoch in range(epochs):\n",
    "    model.train()\n",
    "    correct_train = 0\n",
    "    total_train = 0\n",
    "    for images, labels in train_loader:\n",
    "        images, labels = images.to(device), labels.to(device)  # Move data to GPU if available\n",
    "\n",
    "        optimizer.zero_grad()\n",
    "        outputs = model(images)\n",
    "        loss = criterion(outputs, labels)\n",
    "        loss.backward()\n",
    "        optimizer.step()\n",
    "\n",
    "        _, predicted = torch.max(outputs, 1)\n",
    "        correct_train += (predicted == labels).sum().item()\n",
    "        total_train += labels.size(0)\n",
    "\n",
    "    train_acc.append(100 * correct_train / total_train)\n",
    "\n",
    "    # Validation phase\n",
    "    model.eval()\n",
    "    correct_val = 0\n",
    "    total_val = 0\n",
    "    with torch.no_grad():\n",
    "        for images, labels in val_loader:\n",
    "            images, labels = images.to(device), labels.to(device)  # Move data to GPU if available\n",
    "            outputs = model(images)\n",
    "            _, predicted = torch.max(outputs, 1)\n",
    "            correct_val += (predicted == labels).sum().item()\n",
    "            total_val += labels.size(0)\n",
    "\n",
    "    val_acc.append(100 * correct_val / total_val)\n",
    "    print(f\"Epoch {epoch + 1}/{epochs}, Training Accuracy: {train_acc[-1]:.2f}%, Validation Accuracy: {val_acc[-1]:.2f}%\")\n",
    "\n",
    "# Plot learning curves\n",
    "plt.figure(figsize=(10, 6))\n",
    "plt.plot(range(1, epochs + 1), train_acc, label='Training Accuracy')\n",
    "plt.plot(range(1, epochs + 1), val_acc, label='Validation Accuracy')\n",
    "plt.xlabel('Epochs')\n",
    "plt.ylabel('Accuracy (%)')\n",
    "plt.title('Learning Curves')\n",
    "plt.legend()\n",
    "plt.show()\n"
   ]
  },
  {
   "cell_type": "markdown",
   "id": "75b130e7-506a-45c2-b7fc-9bf93b71a737",
   "metadata": {},
   "source": [
    "## My Banner ID: 916502787"
   ]
  },
  {
   "cell_type": "markdown",
   "id": "ef5ca5f0-e1f1-4126-8c5a-bb37edff987f",
   "metadata": {},
   "source": [
    "##### Modified CNN to add hidden_nodes parameter to run  4,16 "
   ]
  },
  {
   "cell_type": "code",
   "execution_count": 38,
   "id": "96eed282-1a90-4619-a7e1-5be6f6f240b9",
   "metadata": {},
   "outputs": [],
   "source": [
    "\n",
    "\n",
    "class SimpleCNN(nn.Module):\n",
    "    def __init__(self, hidden_nodes=8):\n",
    "        super(SimpleCNN, self).__init__()\n",
    "        self.conv1 = nn.Conv2d(1, 8, kernel_size=3)  # 1 input channel, 8 filters, 3x3 kernel\n",
    "        self.pool1 = nn.MaxPool2d(kernel_size=2, stride=2)  # Max pooling\n",
    "        self.conv2 = nn.Conv2d(8, 4, kernel_size=3)  # 8 input channels, 4 filters, 3x3 kernel\n",
    "        self.pool2 = nn.MaxPool2d(kernel_size=2, stride=2)  # Max pooling\n",
    "        self.flatten = nn.Flatten()\n",
    "        self.fc1 = nn.Linear(4 * 5 * 5, hidden_nodes)  # Fully connected layer with variable hidden nodes\n",
    "        self.fc2 = nn.Linear(hidden_nodes, 4)  # Fully connected output layer, 4 classes\n",
    "\n",
    "    def forward(self, x):\n",
    "        x = torch.relu(self.conv1(x))\n",
    "        x = self.pool1(x)\n",
    "        x = torch.relu(self.conv2(x))\n",
    "        x = self.pool2(x)\n",
    "        x = self.flatten(x)\n",
    "        x = torch.relu(self.fc1(x))\n",
    "        x = torch.softmax(self.fc2(x), dim=1)\n",
    "        return x\n",
    "\n",
    "\n",
    "\n",
    "# Define a function to train the model\n",
    "def train_model(hidden_nodes, epochs=20):\n",
    "    model = SimpleCNN(hidden_nodes=hidden_nodes).to(device)  # Move the model to the GPU if available\n",
    "    criterion = nn.CrossEntropyLoss()  # Use CrossEntropyLoss for multi-class classification\n",
    "    optimizer = optim.Adam(model.parameters(), lr=0.001)\n",
    "\n",
    "    train_acc = []\n",
    "    val_acc = []\n",
    "\n",
    "    for epoch in range(epochs):\n",
    "        model.train()\n",
    "        correct_train = 0\n",
    "        total_train = 0\n",
    "        for images, labels in train_loader:\n",
    "            images, labels = images.to(device), labels.to(device)  # Move data to GPU if available\n",
    "\n",
    "            optimizer.zero_grad()\n",
    "            outputs = model(images)\n",
    "            loss = criterion(outputs, labels)\n",
    "            loss.backward()\n",
    "            optimizer.step()\n",
    "\n",
    "            _, predicted = torch.max(outputs, 1)\n",
    "            correct_train += (predicted == labels).sum().item()\n",
    "            total_train += labels.size(0)\n",
    "\n",
    "        train_acc.append(100 * correct_train / total_train)\n",
    "\n",
    "        # Validation phase\n",
    "        model.eval()\n",
    "        correct_val = 0\n",
    "        total_val = 0\n",
    "        with torch.no_grad():\n",
    "            for images, labels in val_loader:\n",
    "                images, labels = images.to(device), labels.to(device)  # Move data to GPU if available\n",
    "                outputs = model(images)\n",
    "                _, predicted = torch.max(outputs, 1)\n",
    "                correct_val += (predicted == labels).sum().item()\n",
    "                total_val += labels.size(0)\n",
    "\n",
    "        val_acc.append(100 * correct_val / total_val)\n",
    "        print(f\"Epoch {epoch + 1}/{epochs}, Training Accuracy: {train_acc[-1]:.2f}%, Validation Accuracy: {val_acc[-1]:.2f}%\")\n",
    "    \n",
    "    return train_acc, val_acc\n",
    "\n",
    "# Train the model with 4, 8, and 16 hidden nodes\n",
    "hidden_node_configs = [4,16]\n",
    "results = {}\n",
    "\n",
    "for hidden_nodes in hidden_node_configs:\n",
    "    print(f\"\\nTraining model with {hidden_nodes} hidden nodes:\")\n",
    "    train_acc, val_acc = train_model(hidden_nodes)\n",
    "    results[hidden_nodes] = (train_acc, val_acc)\n",
    "\n",
    "\n"
   ]
  },
  {
   "cell_type": "code",
   "execution_count": 37,
   "id": "55c2ed5f-c69f-44c1-827d-c7d294539616",
   "metadata": {},
   "outputs": [
    {
     "data": {
      "image/png": "[encoded data removed]",
      "text/plain": [
       "<Figure size 1000x600 with 1 Axes>"
      ]
     },
     "metadata": {},
     "output_type": "display_data"
    },
    {
     "data": {
      "image/png": "[encoded data removed]",
      "text/plain": [
       "<Figure size 1000x600 with 1 Axes>"
      ]
     },
     "metadata": {},
     "output_type": "display_data"
    }
   ],
   "source": [
    "for hidden_nodes, (train_acc, val_acc) in results.items():\n",
    "    plt.figure(figsize=(10, 6))\n",
    "    plt.plot(range(1, 21), train_acc, label=f'Training Accuracy ({hidden_nodes} nodes)')\n",
    "    plt.plot(range(1, 21), val_acc, label=f'Validation Accuracy ({hidden_nodes} nodes)')\n",
    "    \n",
    "    plt.xlabel('Epochs')\n",
    "    plt.ylabel('Accuracy (%)')\n",
    "    plt.title(f'Learning Curve for {hidden_nodes} Hidden Nodes')\n",
    "    plt.legend()\n",
    "    plt.show()"
   ]
  },
  {
   "cell_type": "markdown",
   "id": "b52345be-b317-4546-889d-a661e7765bad",
   "metadata": {},
   "source": [
    "Describe and discuss what you observe by comparing the performance of the first model and the\n",
    "other two models you constructed in (a), (b) or (c) (depending on which one you did). Comment\n",
    "on whether the models are overfit, underfit, or just right.\n",
    "\n",
    "\n",
    "Performance of the three models with different hidden node configurations (8, 4, and 16 nodes)\n",
    "\n",
    "8 hidden nodes:\n",
    "This model had a pretty solid start, with 78.58% training accuracy and 95.09% validation accuracy. Both kept improving steadily, and by the 20th epoch, it hit 98.97% training accuracy and 98.42% validation accuracy. The validation accuracy was high, and the small gap between the two accuracies shows that the model is well-balanced and generalizes well.  \n",
    "\n",
    "4 hidden nodes:\n",
    "At first, this model didn’t perform as well, starting with 68.95% training accuracy and 73.52% validation accuracy. But it improved quickly, ending with 99.17% training accuracy and 98.89% validation accuracy. It’s impressive, but since the training accuracy is slightly higher than the validation accuracy towards the end, it might be overfitting just a little.  \n",
    "\n",
    "16 hidden nodes:\n",
    "This model started off strong with 88.74% training accuracy and 97.21% validation accuracy. It kept improving and ended up with the best results—99.68% training accuracy and 99.07% validation accuracy. That said, the training accuracy is really high, and the small gap between training and validation suggests it could be overfitting a bit.  \n",
    "\n",
    "Conclusion:\n",
    "The 8 hidden node model seems to be the most balanced, with good results and no obvious overfitting. The 4 hidden node model improved quickly but might be slightly overfitting. The 16 hidden node model had the best accuracy overall but could also be leaning towards overfitting."
   ]
  },
  {
   "cell_type": "code",
   "execution_count": null,
   "id": "0adb4d53-d092-42d1-838f-949d7d4d506a",
   "metadata": {},
   "outputs": [],
   "source": []
  },
  {
   "cell_type": "code",
   "execution_count": null,
   "id": "3a125604-0f9f-4bdc-b11c-f25e235b609e",
   "metadata": {},
   "outputs": [],
   "source": []
  },
  {
   "cell_type": "code",
   "execution_count": 65,
   "id": "dd0132a6-5353-464c-8c15-83b8f8f8e57a",
   "metadata": {},
   "outputs": [
    {
     "name": "stdout",
     "output_type": "stream",
     "text": [
      "DatasetDict({\n",
      "    train: Dataset({\n",
      "        features: ['ID', 'Tweet', 'anger', 'anticipation', 'disgust', 'fear', 'joy', 'love', 'optimism', 'pessimism', 'sadness', 'surprise', 'trust'],\n",
      "        num_rows: 3000\n",
      "    })\n",
      "    validation: Dataset({\n",
      "        features: ['ID', 'Tweet', 'anger', 'anticipation', 'disgust', 'fear', 'joy', 'love', 'optimism', 'pessimism', 'sadness', 'surprise', 'trust'],\n",
      "        num_rows: 400\n",
      "    })\n",
      "    test: Dataset({\n",
      "        features: ['ID', 'Tweet', 'anger', 'anticipation', 'disgust', 'fear', 'joy', 'love', 'optimism', 'pessimism', 'sadness', 'surprise', 'trust'],\n",
      "        num_rows: 1500\n",
      "    })\n",
      "})\n"
     ]
    }
   ],
   "source": [
    "import pandas as pd\n",
    "from datasets import Dataset, DatasetDict\n",
    "\n",
    "# Step 1: Load your datasets using pandas\n",
    "train_df = pd.read_json(\"./student_8/train.json\", lines=True)\n",
    "validation_df = pd.read_json(\"./student_8/validation.json\", lines=True)\n",
    "test_df = pd.read_json(\"./student_8/test.json\", lines=True)\n",
    "\n",
    "# Step 2: Convert pandas DataFrames to Hugging Face Dataset objects\n",
    "train_dataset = Dataset.from_pandas(train_df)\n",
    "validation_dataset = Dataset.from_pandas(validation_df)\n",
    "test_dataset = Dataset.from_pandas(test_df)\n",
    "\n",
    "# Step 3: Create a DatasetDict to organize your datasets\n",
    "dataset = DatasetDict({\n",
    "    'train': train_dataset,\n",
    "    'validation': validation_dataset,\n",
    "    'test': test_dataset\n",
    "})\n",
    "\n",
    "# Print the structure of the dataset_dict\n",
    "print(dataset)"
   ]
  },
  {
   "cell_type": "code",
   "execution_count": 66,
   "id": "86b97a55-ab59-4d60-b25c-0c3229009443",
   "metadata": {},
   "outputs": [
    {
     "data": {
      "text/plain": [
       "{'ID': '2017-En-31496',\n",
       " 'Tweet': 'i animated a little thing i might post it tomorrow since itll be a Good Thursday.. nice...',\n",
       " 'anger': False,\n",
       " 'anticipation': True,\n",
       " 'disgust': False,\n",
       " 'fear': False,\n",
       " 'joy': True,\n",
       " 'love': False,\n",
       " 'optimism': True,\n",
       " 'pessimism': False,\n",
       " 'sadness': False,\n",
       " 'surprise': False,\n",
       " 'trust': False}"
      ]
     },
     "execution_count": 66,
     "metadata": {},
     "output_type": "execute_result"
    }
   ],
   "source": [
    "\n",
    "example = dataset['train'][0]\n",
    "example"
   ]
  },
  {
   "cell_type": "code",
   "execution_count": 115,
   "id": "78b75700-c1ac-475a-ac60-92176b5f100e",
   "metadata": {},
   "outputs": [
    {
     "data": {
      "text/plain": [
       "['anger',\n",
       " 'anticipation',\n",
       " 'disgust',\n",
       " 'fear',\n",
       " 'joy',\n",
       " 'love',\n",
       " 'optimism',\n",
       " 'pessimism',\n",
       " 'sadness',\n",
       " 'surprise',\n",
       " 'trust']"
      ]
     },
     "execution_count": 115,
     "metadata": {},
     "output_type": "execute_result"
    }
   ],
   "source": [
    "labels = [label for label in dataset['train'].features.keys() if label not in ['ID', 'Tweet']]\n",
    "id2label = {idx:label for idx, label in enumerate(labels)}\n",
    "label2id = {label:idx for idx, label in enumerate(labels)}\n",
    "labels"
   ]
  },
  {
   "cell_type": "code",
   "execution_count": 68,
   "id": "fe39b3ab-7679-4486-96a1-6eb5565d1e64",
   "metadata": {},
   "outputs": [],
   "source": [
    "from transformers import AutoTokenizer\n",
    "import numpy as np\n",
    "\n",
    "tokenizer = AutoTokenizer.from_pretrained(\"bert-base-uncased\")\n",
    "\n",
    "def preprocess_data(examples):\n",
    "  # take a batch of texts\n",
    "  text = examples[\"Tweet\"]\n",
    "  # encode them\n",
    "  encoding = tokenizer(text, padding=\"max_length\", truncation=True, max_length=128)\n",
    "  # add labels\n",
    "  labels_batch = {k: examples[k] for k in examples.keys() if k in labels}\n",
    "  # create numpy array of shape (batch_size, num_labels)\n",
    "  labels_matrix = np.zeros((len(text), len(labels)))\n",
    "  # fill numpy array\n",
    "  for idx, label in enumerate(labels):\n",
    "    labels_matrix[:, idx] = labels_batch[label]\n",
    "\n",
    "  encoding[\"labels\"] = labels_matrix.tolist()\n",
    "  \n",
    "  return encoding"
   ]
  },
  {
   "cell_type": "code",
   "execution_count": 72,
   "id": "c2e8b23d-87dd-41bd-893b-428dc932e4ba",
   "metadata": {},
   "outputs": [
    {
     "data": {
      "application/vnd.jupyter.widget-view+json": {
       "model_id": "56fd75725dfd41868fcdcc97382a24e2",
       "version_major": 2,
       "version_minor": 0
      },
      "text/plain": [
       "Map:   0%|          | 0/3000 [00:00<?, ? examples/s]"
      ]
     },
     "metadata": {},
     "output_type": "display_data"
    },
    {
     "data": {
      "application/vnd.jupyter.widget-view+json": {
       "model_id": "3a7a56330392453f8507e8ec43676235",
       "version_major": 2,
       "version_minor": 0
      },
      "text/plain": [
       "Map:   0%|          | 0/400 [00:00<?, ? examples/s]"
      ]
     },
     "metadata": {},
     "output_type": "display_data"
    },
    {
     "data": {
      "application/vnd.jupyter.widget-view+json": {
       "model_id": "8c66355d6402499ba53e04dcfbf08e22",
       "version_major": 2,
       "version_minor": 0
      },
      "text/plain": [
       "Map:   0%|          | 0/1500 [00:00<?, ? examples/s]"
      ]
     },
     "metadata": {},
     "output_type": "display_data"
    }
   ],
   "source": [
    "encoded_dataset = dataset.map(preprocess_data, batched=True, remove_columns=dataset['train'].column_names)"
   ]
  },
  {
   "cell_type": "code",
   "execution_count": 73,
   "id": "53aa42dd-8f35-48a3-b4d3-b13c7c4316d0",
   "metadata": {},
   "outputs": [],
   "source": [
    "# encoded_dataset = dataset.map(preprocess_data, batched=True, remove_columns=dataset['train'].column_names)\n",
    "encoded_dataset.set_format(\"torch\")"
   ]
  },
  {
   "cell_type": "code",
   "execution_count": 74,
   "id": "39ca8d17-2458-466e-ade1-7b3a07591234",
   "metadata": {},
   "outputs": [
    {
     "name": "stderr",
     "output_type": "stream",
     "text": [
      "Some weights of BertForSequenceClassification were not initialized from the model checkpoint at bert-base-uncased and are newly initialized: ['classifier.bias', 'classifier.weight']\n",
      "You should probably TRAIN this model on a down-stream task to be able to use it for predictions and inference.\n"
     ]
    }
   ],
   "source": [
    "from transformers import AutoModelForSequenceClassification\n",
    "\n",
    "# Define id2label and label2id mappings\n",
    "id2label = {idx: label for idx, label in enumerate(labels)}\n",
    "label2id = {label: idx for idx, label in enumerate(labels)}\n",
    "\n",
    "# Load BERT model for multi-label classification\n",
    "model = AutoModelForSequenceClassification.from_pretrained(\"bert-base-uncased\", \n",
    "                                                           problem_type=\"multi_label_classification\", \n",
    "                                                           num_labels=len(labels),\n",
    "                                                           id2label=id2label,\n",
    "                                                           label2id=label2id)\n"
   ]
  },
  {
   "cell_type": "code",
   "execution_count": 81,
   "id": "5690b01b-18dd-47e6-8a2f-27319cda8d79",
   "metadata": {},
   "outputs": [],
   "source": [
    "from transformers import TrainingArguments, Trainer\n",
    "from sklearn.metrics import f1_score, roc_auc_score, accuracy_score\n",
    "import torch\n",
    "device = torch.device(\"cuda\" if torch.cuda.is_available() else \"cpu\")\n",
    "model.to(device)\n",
    "# Training arguments\n",
    "args = TrainingArguments(\n",
    "    f\"bert-finetuned-sem_eval-english\",\n",
    "    evaluation_strategy=\"epoch\",\n",
    "    save_strategy=\"epoch\",\n",
    "    learning_rate=2e-5,\n",
    "    per_device_train_batch_size=8,\n",
    "    per_device_eval_batch_size=8,\n",
    "    num_train_epochs=5,\n",
    "    weight_decay=0.01,\n",
    "    load_best_model_at_end=True,\n",
    "    metric_for_best_model=\"f1\"\n",
    "    \n",
    ")\n",
    "\n",
    "# Compute metrics function\n",
    "def multi_label_metrics(predictions, labels, threshold=0.5):\n",
    "    sigmoid = torch.nn.Sigmoid()\n",
    "    probs = sigmoid(torch.Tensor(predictions))\n",
    "    y_pred = np.zeros(probs.shape)\n",
    "    y_pred[np.where(probs >= threshold)] = 1\n",
    "    f1_micro_average = f1_score(labels, y_pred, average='micro')\n",
    "    roc_auc = roc_auc_score(labels, y_pred, average='micro')\n",
    "    accuracy = accuracy_score(labels, y_pred)\n",
    "    return {'f1': f1_micro_average, 'roc_auc': roc_auc, 'accuracy': accuracy}\n",
    "\n",
    "def compute_metrics(p):\n",
    "    preds = p.predictions[0] if isinstance(p.predictions, tuple) else p.predictions\n",
    "    result = multi_label_metrics(predictions=preds, labels=p.label_ids)\n",
    "    return result\n",
    "\n",
    "# Trainer object\n",
    "trainer = Trainer(\n",
    "    model=model,\n",
    "    args=args,\n",
    "    train_dataset=encoded_dataset[\"train\"],\n",
    "    eval_dataset=encoded_dataset[\"validation\"],\n",
    "    tokenizer=tokenizer,\n",
    "    compute_metrics=compute_metrics\n",
    ")\n"
   ]
  },
  {
   "cell_type": "code",
   "execution_count": 82,
   "id": "1d007f57-e102-4717-b2d4-6d4dc0ee2d8e",
   "metadata": {},
   "outputs": [
    {
     "data": {
      "text/html": [
       "\n",
       "    <div>\n",
       "      \n",
       "      <progress value='1875' max='1875' style='width:300px; height:20px; vertical-align: middle;'></progress>\n",
       "      [1875/1875 04:51, Epoch 5/5]\n",
       "    </div>\n",
       "    <table border=\"1\" class=\"dataframe\">\n",
       "  <thead>\n",
       " <tr style=\"text-align: left;\">\n",
       "      <th>Epoch</th>\n",
       "      <th>Training Loss</th>\n",
       "      <th>Validation Loss</th>\n",
       "      <th>F1</th>\n",
       "      <th>Roc Auc</th>\n",
       "      <th>Accuracy</th>\n",
       "    </tr>\n",
       "  </thead>\n",
       "  <tbody>\n",
       "    <tr>\n",
       "      <td>1</td>\n",
       "      <td>No log</td>\n",
       "      <td>0.320482</td>\n",
       "      <td>0.684211</td>\n",
       "      <td>0.779995</td>\n",
       "      <td>0.260000</td>\n",
       "    </tr>\n",
       "    <tr>\n",
       "      <td>2</td>\n",
       "      <td>0.203100</td>\n",
       "      <td>0.336901</td>\n",
       "      <td>0.693703</td>\n",
       "      <td>0.799302</td>\n",
       "      <td>0.255000</td>\n",
       "    </tr>\n",
       "    <tr>\n",
       "      <td>3</td>\n",
       "      <td>0.164400</td>\n",
       "      <td>0.331558</td>\n",
       "      <td>0.691317</td>\n",
       "      <td>0.790335</td>\n",
       "      <td>0.257500</td>\n",
       "    </tr>\n",
       "    <tr>\n",
       "      <td>4</td>\n",
       "      <td>0.132000</td>\n",
       "      <td>0.343676</td>\n",
       "      <td>0.690039</td>\n",
       "      <td>0.790581</td>\n",
       "      <td>0.242500</td>\n",
       "    </tr>\n",
       "    <tr>\n",
       "      <td>5</td>\n",
       "      <td>0.132000</td>\n",
       "      <td>0.345584</td>\n",
       "      <td>0.690265</td>\n",
       "      <td>0.791637</td>\n",
       "      <td>0.242500</td>\n",
       "    </tr>\n",
       "  </tbody>\n",
       "</table><p>"
      ],
      "text/plain": [
       "<IPython.core.display.HTML object>"
      ]
     },
     "metadata": {},
     "output_type": "display_data"
    },
    {
     "data": {
      "text/plain": [
       "TrainOutput(global_step=1875, training_loss=0.15682037353515624, metrics={'train_runtime': 291.9934, 'train_samples_per_second': 51.371, 'train_steps_per_second': 6.421, 'total_flos': 986746187520000.0, 'train_loss': 0.15682037353515624, 'epoch': 5.0})"
      ]
     },
     "execution_count": 82,
     "metadata": {},
     "output_type": "execute_result"
    }
   ],
   "source": [
    "trainer.train()\n"
   ]
  },
  {
   "cell_type": "code",
   "execution_count": 87,
   "id": "381c00d1-0a40-429f-b753-b095ee7c940d",
   "metadata": {},
   "outputs": [
    {
     "data": {
      "text/html": [],
      "text/plain": [
       "<IPython.core.display.HTML object>"
      ]
     },
     "metadata": {},
     "output_type": "display_data"
    },
    {
     "data": {
      "text/plain": [
       "{'eval_loss': 0.3369014263153076,\n",
       " 'eval_f1': 0.6937033084311632,\n",
       " 'eval_roc_auc': 0.7993022379588347,\n",
       " 'eval_accuracy': 0.255,\n",
       " 'eval_runtime': 2.2913,\n",
       " 'eval_samples_per_second': 174.57,\n",
       " 'eval_steps_per_second': 21.821,\n",
       " 'epoch': 5.0}"
      ]
     },
     "execution_count": 87,
     "metadata": {},
     "output_type": "execute_result"
    }
   ],
   "source": [
    "trainer.evaluate()"
   ]
  },
  {
   "cell_type": "code",
   "execution_count": 85,
   "id": "04f0dfeb-8a03-4248-8576-fa6264b59a62",
   "metadata": {},
   "outputs": [
    {
     "data": {
      "text/plain": [
       "TrainerState(epoch=5.0, global_step=1875, max_steps=1875, logging_steps=500, eval_steps=500, save_steps=500, train_batch_size=8, num_train_epochs=5, num_input_tokens_seen=0, total_flos=986746187520000.0, log_history=[{'eval_loss': 0.32048216462135315, 'eval_f1': 0.6842105263157895, 'eval_roc_auc': 0.7799948313922878, 'eval_accuracy': 0.26, 'eval_runtime': 1.9814, 'eval_samples_per_second': 201.88, 'eval_steps_per_second': 25.235, 'epoch': 1.0, 'step': 375}, {'loss': 0.2031, 'grad_norm': 1.3370453119277954, 'learning_rate': 1.4666666666666666e-05, 'epoch': 1.3333333333333333, 'step': 500}, {'eval_loss': 0.3369014263153076, 'eval_f1': 0.6937033084311632, 'eval_roc_auc': 0.7993022379588347, 'eval_accuracy': 0.255, 'eval_runtime': 2.0388, 'eval_samples_per_second': 196.198, 'eval_steps_per_second': 24.525, 'epoch': 2.0, 'step': 750}, {'loss': 0.1644, 'grad_norm': 1.4280638694763184, 'learning_rate': 9.333333333333334e-06, 'epoch': 2.6666666666666665, 'step': 1000}, {'eval_loss': 0.33155837655067444, 'eval_f1': 0.6913165266106442, 'eval_roc_auc': 0.7903350658635198, 'eval_accuracy': 0.2575, 'eval_runtime': 2.0319, 'eval_samples_per_second': 196.856, 'eval_steps_per_second': 24.607, 'epoch': 3.0, 'step': 1125}, {'loss': 0.132, 'grad_norm': 1.7570762634277344, 'learning_rate': 4.000000000000001e-06, 'epoch': 4.0, 'step': 1500}, {'eval_loss': 0.3436761498451233, 'eval_f1': 0.6900389538119087, 'eval_roc_auc': 0.7905814200628927, 'eval_accuracy': 0.2425, 'eval_runtime': 2.0517, 'eval_samples_per_second': 194.963, 'eval_steps_per_second': 24.37, 'epoch': 4.0, 'step': 1500}, {'eval_loss': 0.34558379650115967, 'eval_f1': 0.6902654867256637, 'eval_roc_auc': 0.7916374825499108, 'eval_accuracy': 0.2425, 'eval_runtime': 2.114, 'eval_samples_per_second': 189.214, 'eval_steps_per_second': 23.652, 'epoch': 5.0, 'step': 1875}, {'train_runtime': 291.9934, 'train_samples_per_second': 51.371, 'train_steps_per_second': 6.421, 'total_flos': 986746187520000.0, 'train_loss': 0.15682037353515624, 'epoch': 5.0, 'step': 1875}], best_metric=0.6937033084311632, best_model_checkpoint='bert-finetuned-sem_eval-english\\\\checkpoint-750', is_local_process_zero=True, is_world_process_zero=True, is_hyper_param_search=False, trial_name=None, trial_params=None, stateful_callbacks={'TrainerControl': {'args': {'should_training_stop': True, 'should_epoch_stop': False, 'should_save': True, 'should_evaluate': False, 'should_log': False}, 'attributes': {}}})"
      ]
     },
     "execution_count": 85,
     "metadata": {},
     "output_type": "execute_result"
    }
   ],
   "source": [
    "trainer.state"
   ]
  },
  {
   "cell_type": "code",
   "execution_count": 88,
   "id": "fefbdf8f-909a-4077-ae64-d144e32ba76b",
   "metadata": {},
   "outputs": [
    {
     "data": {
      "image/png": "[encoded data removed]",
      "text/plain": [
       "<Figure size 640x480 with 1 Axes>"
      ]
     },
     "metadata": {},
     "output_type": "display_data"
    }
   ],
   "source": [
    "import matplotlib.pyplot as plt\n",
    "\n",
    "# Extract the training and evaluation loss from the trainer logs\n",
    "train_losses = []\n",
    "eval_losses = []\n",
    "\n",
    "# Iterate through the log history to collect losses\n",
    "for log in trainer.state.log_history:\n",
    "    if 'loss' in log:\n",
    "        train_losses.append(log['loss'])\n",
    "    if 'eval_loss' in log:\n",
    "        eval_losses.append(log['eval_loss'])\n",
    "\n",
    "# Plotting the learning curves\n",
    "plt.plot(range(1, len(train_losses) + 1), train_losses, label=\"Training Loss\")\n",
    "plt.plot(range(1, len(eval_losses) + 1), eval_losses, label=\"Validation Loss\")\n",
    "plt.xlabel(\"Epochs\")\n",
    "plt.ylabel(\"Loss\")\n",
    "plt.legend()\n",
    "plt.title(\"Learning Curves: Training and Validation Loss\")\n",
    "plt.show()\n",
    "\n"
   ]
  },
  {
   "cell_type": "code",
   "execution_count": 90,
   "id": "0417fd91-f811-40fe-86c3-aa32e8b0ca19",
   "metadata": {},
   "outputs": [
    {
     "data": {
      "text/html": [],
      "text/plain": [
       "<IPython.core.display.HTML object>"
      ]
     },
     "metadata": {},
     "output_type": "display_data"
    },
    {
     "name": "stdout",
     "output_type": "stream",
     "text": [
      "Test Accuracy (all labels must match): 0.274\n"
     ]
    }
   ],
   "source": [
    "from sklearn.metrics import accuracy_score\n",
    "import torch\n",
    "import numpy as np\n",
    "\n",
    "# Get predictions, labels, and metrics\n",
    "predictions, label_ids, metrics = trainer.predict(encoded_dataset['test'])\n",
    "\n",
    "# Convert predictions using a threshold (sigmoid)\n",
    "sigmoid = torch.nn.Sigmoid()\n",
    "probs = sigmoid(torch.Tensor(predictions))\n",
    "y_pred = np.zeros(probs.shape)\n",
    "y_pred[np.where(probs >= 0.5)] = 1\n",
    "\n",
    "# Calculate accuracy (all labels must match)\n",
    "accuracy = accuracy_score(label_ids, y_pred)\n",
    "print(f\"Test Accuracy (all labels must match): {accuracy}\")\n",
    "\n"
   ]
  },
  {
   "cell_type": "code",
   "execution_count": 117,
   "id": "762a871a-74cc-4ad3-b533-c40ffde429c6",
   "metadata": {},
   "outputs": [
    {
     "data": {
      "text/plain": [
       "((1500, 11),\n",
       " (11,),\n",
       " array(['anger', 'anticipation', 'disgust', 'fear', 'joy', 'love',\n",
       "        'optimism', 'pessimism', 'sadness', 'surprise', 'trust'],\n",
       "       dtype='<U12'))"
      ]
     },
     "execution_count": 117,
     "metadata": {},
     "output_type": "execute_result"
    }
   ],
   "source": [
    "labels = np.array(labels)\n",
    "y_pred.shape,labels.shape,labels"
   ]
  },
  {
   "cell_type": "code",
   "execution_count": 114,
   "id": "a4cdf9a1-4b6f-476b-b5ac-8d41f294501e",
   "metadata": {},
   "outputs": [
    {
     "name": "stdout",
     "output_type": "stream",
     "text": [
      "Test Accuracy (at least one label matches): 0.968\n"
     ]
    }
   ],
   "source": [
    "\n",
    "labels1 = np.ones((y_pred.shape[0], 11))\n",
    "# Reshape labels to match y_pred's shape\n",
    "  # Repeat the labels for each sample\n",
    "\n",
    "# Calculate accuracy (at least one label matches)\n",
    "correct_predictions = np.sum(np.any(y_pred == labels1, axis=1))\n",
    "accuracy_one_label = correct_predictions / y_pred.shape[0]\n",
    "print(f\"Test Accuracy (at least one label matches): {accuracy_one_label}\")\n",
    "\n"
   ]
  },
  {
   "cell_type": "code",
   "execution_count": null,
   "id": "6ca95531-626a-4518-967e-ec25a9e383ac",
   "metadata": {},
   "outputs": [],
   "source": []
  },
  {
   "cell_type": "code",
   "execution_count": null,
   "id": "107768fc-e36a-4a22-8fb3-ad1000d83381",
   "metadata": {},
   "outputs": [],
   "source": [
    "\n"
   ]
  },
  {
   "cell_type": "code",
   "execution_count": null,
   "id": "383787d0-57e1-4db4-bdc2-8ab97eb37cec",
   "metadata": {},
   "outputs": [],
   "source": [
    "\n",
    "\n",
    "\n"
   ]
  },
  {
   "cell_type": "code",
   "execution_count": null,
   "id": "5aac44ad-ccb9-4a7f-b06a-4c3a395357a2",
   "metadata": {},
   "outputs": [],
   "source": [
    "\n"
   ]
  },
  {
   "cell_type": "code",
   "execution_count": null,
   "id": "68067eee-5466-4482-b110-542314c11cfc",
   "metadata": {},
   "outputs": [],
   "source": [
    "\n"
   ]
  },
  {
   "cell_type": "code",
   "execution_count": null,
   "id": "8db27e82-d11e-4fc0-be69-3ce610cfbb8d",
   "metadata": {},
   "outputs": [],
   "source": []
  }
 ],
 "metadata": {
  "kernelspec": {
   "display_name": "Python 3 (ipykernel)",
   "language": "python",
   "name": "python3"
  },
  "language_info": {
   "codemirror_mode": {
    "name": "ipython",
    "version": 3
   },
   "file_extension": ".py",
   "mimetype": "text/x-python",
   "name": "python",
   "nbconvert_exporter": "python",
   "pygments_lexer": "ipython3",
   "version": "3.11.9"
  }
 },
 "nbformat": 4,
 "nbformat_minor": 5
}
